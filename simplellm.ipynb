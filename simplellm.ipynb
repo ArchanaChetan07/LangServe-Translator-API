{
 "cells": [
  {
   "cell_type": "code",
   "execution_count": 2,
   "id": "17f12206",
   "metadata": {},
   "outputs": [],
   "source": [
    "import os\n",
    "from dotenv import load_dotenv\n",
    "load_dotenv()\n",
    "\n",
    "import openai\n",
    "openai.api_key=os.getenv(\"OPENAI_API_KEY\")\n",
    "\n",
    "groq_api_key=os.getenv(\"GROQ_API_KEY\")\n"
   ]
  },
  {
   "cell_type": "code",
   "execution_count": 3,
   "id": "c31c6791",
   "metadata": {},
   "outputs": [],
   "source": [
    "from langchain_openai import ChatOpenAI\n",
    "from langchain_groq import ChatGroq\n",
    "\n",
    "model = ChatGroq(model=\"Gemma2-9b-It\", groq_api_key=groq_api_key)\n",
    "\n"
   ]
  },
  {
   "cell_type": "code",
   "execution_count": 10,
   "id": "09f3cb95",
   "metadata": {},
   "outputs": [
    {
     "name": "stdout",
     "output_type": "stream",
     "text": [
      "Here's the translation:\n",
      "\n",
      "* **Hello** - ನಮಸ್ತೆ (Namaste) \n",
      "* **How are you?** -  ನೀವೇ ಹೇಗಿದ್ದೀರಿ? (Nīvē hēge iddīri?)\n",
      "\n",
      "You can use either of these greetings, or combine them:\n",
      "\n",
      "* **ನಮಸ್ತೆ, ನೀವೇ ಹೇಗಿದ್ದೀರಿ?** (Namaste, nivē hēge iddīri?)\n",
      "\n",
      "\n",
      "Let me know if you have any other phrases you'd like translated! \n",
      "\n"
     ]
    }
   ],
   "source": [
    "from langchain_core.messages import SystemMessage, HumanMessage\n",
    "\n",
    "messages = [\n",
    "    SystemMessage(content=\"Translate the following from English to Kannada\"),\n",
    "    HumanMessage(content=\"Hello How are you\")\n",
    "]\n",
    "\n",
    "result = model.invoke(messages)\n",
    "print(result.content)\n"
   ]
  },
  {
   "cell_type": "code",
   "execution_count": 11,
   "id": "b9aebcf4",
   "metadata": {},
   "outputs": [
    {
     "data": {
      "text/plain": [
       "\"Here's the translation:\\n\\n* **Hello** - ನಮಸ್ತೆ (Namaste) \\n* **How are you?** -  ನೀವೇ ಹೇಗಿದ್ದೀರಿ? (Nīvē hēge iddīri?)\\n\\nYou can use either of these greetings, or combine them:\\n\\n* **ನಮಸ್ತೆ, ನೀವೇ ಹೇಗಿದ್ದೀರಿ?** (Namaste, nivē hēge iddīri?)\\n\\n\\nLet me know if you have any other phrases you'd like translated! \\n\""
      ]
     },
     "execution_count": 11,
     "metadata": {},
     "output_type": "execute_result"
    }
   ],
   "source": [
    "from langchain_core.output_parsers import StrOutputParser\n",
    "parser=StrOutputParser()\n",
    "parser.invoke(result)"
   ]
  },
  {
   "cell_type": "code",
   "execution_count": 12,
   "id": "39e5675a",
   "metadata": {},
   "outputs": [
    {
     "data": {
      "text/plain": [
       "'Hello - ನನ್ನ ಹೆಸರು...  (Nannhu hesaru...)\\n\\nHow are you -  ನೀವೇ ಹೇಗಿದ್ದೀರಿ ? (Neeve hege iddhiri?) \\n\\n\\n\\nYou can use these phrases to greet someone in Kannada. \\n\\n'"
      ]
     },
     "execution_count": 12,
     "metadata": {},
     "output_type": "execute_result"
    }
   ],
   "source": [
    "### Using LCEL - chain the components\n",
    "chain=model|parser\n",
    "chain.invoke(messages)"
   ]
  },
  {
   "cell_type": "code",
   "execution_count": 18,
   "id": "5623b524",
   "metadata": {},
   "outputs": [],
   "source": [
    "### Prompt Templates\n",
    "from langchain_core.prompts import ChatPromptTemplate\n",
    "\n",
    "generic_template = \"Translate the following into {language}:\"\n",
    "\n",
    "prompt = ChatPromptTemplate.from_messages([\n",
    "    (\"system\", generic_template),\n",
    "    (\"user\", \"{text}\")\n",
    "])\n",
    "\n"
   ]
  },
  {
   "cell_type": "code",
   "execution_count": 19,
   "id": "08b02393",
   "metadata": {},
   "outputs": [
    {
     "data": {
      "text/plain": [
       "ChatPromptValue(messages=[SystemMessage(content='Translate the following into Kannada:', additional_kwargs={}, response_metadata={}), HumanMessage(content='Hello', additional_kwargs={}, response_metadata={})])"
      ]
     },
     "execution_count": 19,
     "metadata": {},
     "output_type": "execute_result"
    }
   ],
   "source": [
    "prompt.invoke({\"language\":\"Kannada\",\"text\":\"Hello\"})"
   ]
  },
  {
   "cell_type": "code",
   "execution_count": 22,
   "id": "3e9a681a",
   "metadata": {},
   "outputs": [
    {
     "name": "stdout",
     "output_type": "stream",
     "text": [
      "<class 'langchain_core.messages.ai.AIMessage'>\n",
      "{'content': \"Here's the translation:\\n\\n* **Hello** - ನಮಸ್ತೆ (Namaste) \\n* **How are you?** -  ನೀವೇ ಹೇಗಿದ್ದೀರಿ? (Nīvē hēge iddīri?)\\n\\nYou can use either of these greetings, or combine them:\\n\\n* **ನಮಸ್ತೆ, ನೀವೇ ಹೇಗಿದ್ದೀರಿ?** (Namaste, nivē hēge iddīri?)\\n\\n\\nLet me know if you have any other phrases you'd like translated! \\n\", 'additional_kwargs': {}, 'response_metadata': {'token_usage': {'completion_tokens': 123, 'prompt_tokens': 20, 'total_tokens': 143, 'completion_time': 0.223636364, 'prompt_time': 0.001938706, 'queue_time': 0.018324364000000003, 'total_time': 0.22557507}, 'model_name': 'Gemma2-9b-It', 'system_fingerprint': 'fp_10c08bf97d', 'finish_reason': 'stop', 'logprobs': None}, 'type': 'ai', 'name': None, 'id': 'run--b908963d-8036-4c2f-846a-ddfce26204ba-0', 'example': False, 'tool_calls': [], 'invalid_tool_calls': [], 'usage_metadata': {'input_tokens': 20, 'output_tokens': 123, 'total_tokens': 143}}\n"
     ]
    },
    {
     "name": "stderr",
     "output_type": "stream",
     "text": [
      "C:\\Users\\archa\\AppData\\Local\\Temp\\ipykernel_19056\\889875849.py:2: PydanticDeprecatedSince20: The `dict` method is deprecated; use `model_dump` instead. Deprecated in Pydantic V2.0 to be removed in V3.0. See Pydantic V2 Migration Guide at https://errors.pydantic.dev/2.11/migration/\n",
      "  print(result.dict())  # to inspect full structure\n"
     ]
    }
   ],
   "source": [
    "\n",
    "print(type(result))  # → <class 'langchain_core.messages.ai.AIMessage'>\n",
    "print(result.dict())  # to inspect full structure"
   ]
  },
  {
   "cell_type": "code",
   "execution_count": null,
   "id": "9cf2f51d",
   "metadata": {},
   "outputs": [],
   "source": []
  },
  {
   "cell_type": "code",
   "execution_count": null,
   "id": "e7b5a19b",
   "metadata": {},
   "outputs": [],
   "source": []
  },
  {
   "cell_type": "code",
   "execution_count": null,
   "id": "228cd6b2",
   "metadata": {},
   "outputs": [],
   "source": []
  },
  {
   "cell_type": "code",
   "execution_count": null,
   "id": "198700ef",
   "metadata": {},
   "outputs": [],
   "source": []
  }
 ],
 "metadata": {
  "kernelspec": {
   "display_name": "llama_env",
   "language": "python",
   "name": "python3"
  },
  "language_info": {
   "codemirror_mode": {
    "name": "ipython",
    "version": 3
   },
   "file_extension": ".py",
   "mimetype": "text/x-python",
   "name": "python",
   "nbconvert_exporter": "python",
   "pygments_lexer": "ipython3",
   "version": "3.11.5"
  }
 },
 "nbformat": 4,
 "nbformat_minor": 5
}
